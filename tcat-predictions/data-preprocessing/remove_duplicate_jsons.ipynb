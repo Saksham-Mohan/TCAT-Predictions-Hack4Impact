{
 "cells": [
  {
   "cell_type": "code",
   "execution_count": 1,
   "metadata": {},
   "outputs": [],
   "source": [
    "import json"
   ]
  },
  {
   "cell_type": "code",
   "execution_count": 17,
   "metadata": {},
   "outputs": [],
   "source": [
    "trip_id_list=[\n",
    "    \"t1B8-b64-sl11\",\n",
    "    \"t1B8-b64-slB\",\n",
    "    \"t1B8-b64-slC\",\n",
    "    \"t1CA-b64-sl11\",\n",
    "    \"t1CA-b64-slB\",\n",
    "    \"t1CA-b64-slC\"\n",
    "]"
   ]
  },
  {
   "cell_type": "code",
   "execution_count": 18,
   "metadata": {},
   "outputs": [
    {
     "name": "stdout",
     "output_type": "stream",
     "text": [
      "Processing JSON of t1B8-b64-sl11\n",
      "pre-removal: 180 entries\n",
      "post-removal: 34 entries\n",
      "Processing JSON of t1B8-b64-slB\n",
      "pre-removal: 177 entries\n",
      "post-removal: 35 entries\n",
      "Processing JSON of t1B8-b64-slC\n",
      "pre-removal: 717 entries\n",
      "post-removal: 153 entries\n",
      "Processing JSON of t1CA-b64-sl11\n",
      "pre-removal: 198 entries\n",
      "post-removal: 54 entries\n",
      "Processing JSON of t1CA-b64-slB\n",
      "pre-removal: 194 entries\n",
      "post-removal: 54 entries\n",
      "Processing JSON of t1CA-b64-slC\n",
      "pre-removal: 794 entries\n",
      "post-removal: 200 entries\n"
     ]
    }
   ],
   "source": [
    "for trip_id in trip_id_list:\n",
    "    all_entries=[]\n",
    "    print(f\"Processing JSON of {trip_id}\")\n",
    "\n",
    "    # reading original json file\n",
    "    with open(f'./sample-data/{trip_id}.json', 'r') as f:\n",
    "        for line in f:\n",
    "            all_entries.append(line)\n",
    "    f.close()\n",
    "\n",
    "    num_entries=len(all_entries)\n",
    "    print(f\"pre-removal: {num_entries} entries\")\n",
    "\n",
    "    # remove duplicates \n",
    "    new_json_list=[]\n",
    "    time_recorded_dict=dict()\n",
    "    for i in range(num_entries):\n",
    "        old_json=json.loads(all_entries[i])\n",
    "        time_recorded=old_json.pop('time_recorded', None) # get time_recorded field (if key dne, returns None)\n",
    "        new_json_list.append(old_json)\n",
    "    unique_json_list=[j for n, j in enumerate(new_json_list) if j not in new_json_list[n+1:]]\n",
    "    print(f\"post-removal: {len(unique_json_list)} entries\")\n",
    "\n",
    "    # writing output json file\n",
    "    with open(f'./output/{trip_id}_new.json', 'w') as json_file:\n",
    "        for json_obj in unique_json_list:\n",
    "            json_str=json.dumps(json_obj)\n",
    "            json_file.write(json_str+\"\\n\")\n",
    "    json_file.close()"
   ]
  }
 ],
 "metadata": {
  "kernelspec": {
   "display_name": "Python 3",
   "language": "python",
   "name": "python3"
  },
  "language_info": {
   "codemirror_mode": {
    "name": "ipython",
    "version": 3
   },
   "file_extension": ".py",
   "mimetype": "text/x-python",
   "name": "python",
   "nbconvert_exporter": "python",
   "pygments_lexer": "ipython3",
   "version": "3.7.3"
  }
 },
 "nbformat": 4,
 "nbformat_minor": 4
}
