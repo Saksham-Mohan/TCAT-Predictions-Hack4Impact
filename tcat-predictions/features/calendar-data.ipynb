{
 "cells": [
  {
   "cell_type": "code",
   "execution_count": 1,
   "metadata": {},
   "outputs": [],
   "source": [
    "import requests\n",
    "from datetime import datetime\n",
    "import pandas as pd\n",
    "from bs4 import BeautifulSoup\n",
    "from math import isnan\n",
    "import re\n",
    "from os import listdir"
   ]
  },
  {
   "cell_type": "markdown",
   "metadata": {},
   "source": [
    "## Cornell Data Collection"
   ]
  },
  {
   "cell_type": "code",
   "execution_count": 2,
   "metadata": {},
   "outputs": [],
   "source": [
    "def clean_dates(dates, year1, year2):   \n",
    "    '''\n",
    "    converts start date string into start date epoch\n",
    "    converts end date string into end date epoch\n",
    "    adds proper school year to all dates\n",
    "    \n",
    "    dates: soup tag with dates\n",
    "    year1: int of first possible school year\n",
    "    year2: int of second possible school year\n",
    "    \n",
    "    returns string representations of start date and end date\n",
    "    returns epoch representations of start date and end date\n",
    "    \n",
    "    '''\n",
    "    if re.match('[A-Za-z]+ \\d\\d$', dates[1].text):\n",
    "        end_date = dates[1].text  \n",
    "        end_date_obj = datetime.strptime(end_date, '%b %d')\n",
    "        end_date_obj = end_date_obj.replace(year=get_current_school_year(end_date_obj, year1, year2))\n",
    "        end_date_epoch = datetime.timestamp(end_date_obj)\n",
    "    else: \n",
    "        end_date = None\n",
    "        end_date_epoch = None\n",
    "\n",
    "    start_date = dates[0].text\n",
    "    start_date_obj = datetime.strptime(start_date, '%b %d')\n",
    "    start_date_obj = start_date_obj.replace(year=get_current_school_year(start_date_obj, year1, year2))\n",
    "    start_date_epoch = datetime.timestamp(start_date_obj)\n",
    "    return start_date, start_date_epoch, end_date, end_date_epoch"
   ]
  },
  {
   "cell_type": "code",
   "execution_count": 3,
   "metadata": {},
   "outputs": [],
   "source": [
    "def check_if_class_related(event_name, remove_instructions=False):\n",
    "    '''\n",
    "    filters out events not closure-related, specific to Cornell academic Calendar\n",
    "    '''\n",
    "    word_list = ('no classes', 'recess', 'break', 'classes', 'instruction begins')\n",
    "    bad_word_list = ('week', 'instruction') if remove_instructions else ['week']\n",
    "    for word in word_list:\n",
    "        for bad_word in bad_word_list:\n",
    "            if bad_word in event_name.lower():\n",
    "                return False\n",
    "            if word in event_name.lower():\n",
    "                return True\n",
    "    return False"
   ]
  },
  {
   "cell_type": "code",
   "execution_count": 4,
   "metadata": {},
   "outputs": [],
   "source": [
    "def get_school_year(date, return_both_years=False):\n",
    "    # if date is [Jul, Dec], it is the earlier year\n",
    "    # if date is in [Jan, June], it is the later year\n",
    "    if date.month in range(1, 7):\n",
    "        year1 = date.year - 1\n",
    "        year2 = date.year\n",
    "    else:\n",
    "        year1 = date.year\n",
    "        year2 = date.year + 1\n",
    "    return (year1, year2)"
   ]
  },
  {
   "cell_type": "code",
   "execution_count": 5,
   "metadata": {},
   "outputs": [],
   "source": [
    "def get_current_school_year(date, year1, year2):\n",
    "    '''\n",
    "    computes the current school year, given the two school years\n",
    "    '''\n",
    "    # if date is [Jul, Dec], it is the earlier year\n",
    "    # if date is in [Jan, June], it is the later year\n",
    "    return year2 if date.month in range(1, 7) else year1"
   ]
  },
  {
   "cell_type": "code",
   "execution_count": 6,
   "metadata": {},
   "outputs": [],
   "source": [
    "def get_cornell_calendar(year1, year2):\n",
    "    '''\n",
    "    Scrapes the Cornell registrar calendar for key academic dates\n",
    "    returns DataFrame of each school-closure related date \n",
    "    DataFrame includes cols Start Date, Start Date Epoch, End Date, End Date Epoch, and the Event Name\n",
    "    \n",
    "    earliest school year you can use is 2016-2017\n",
    "    '''\n",
    "    r = requests.get('https://registrar.cornell.edu/calendar/{}-{}'.format(year1, year2))\n",
    "    if not r.ok:\n",
    "        raise RuntimeError('Error connecting to registrar website')\n",
    "    doc = r.text\n",
    "    soup = BeautifulSoup(doc)\n",
    "    \n",
    "    calendar_rows = soup.findAll('div', {'class' : 'calendar-row'})\n",
    "    rows = []\n",
    "    for row in calendar_rows:\n",
    "        event_title = row.find('div', {\"class\": \"calendar-title\"}).text\n",
    "        \n",
    "        #only add school-closure related classes\n",
    "        if check_if_class_related(event_title):\n",
    "            dates = row.findAll('time')\n",
    "            start_date, start_date_epoch, end_date, end_date_epoch = clean_dates(dates, year1, year2)\n",
    "            rows.append([start_date, start_date_epoch, end_date, end_date_epoch, event_title])\n",
    "    return pd.DataFrame(rows, columns=['Start Date', 'Start Date Epoch', 'End Date', 'End Date Epoch', 'Event Name'])"
   ]
  },
  {
   "cell_type": "markdown",
   "metadata": {},
   "source": [
    "## Main Function"
   ]
  },
  {
   "cell_type": "code",
   "execution_count": 7,
   "metadata": {},
   "outputs": [],
   "source": [
    "def check_if_in_calendar(df, date):\n",
    "    '''\n",
    "    date: datetime object of date you want to check if it is in calendar\n",
    "    \n",
    "    turn dataframe \n",
    "    '''\n",
    "    date = date.date()\n",
    "    for row in df.iterrows():\n",
    "        start_date_epoch = row[1]['Start Date Epoch']\n",
    "        end_date_epoch = row[1]['End Date Epoch']\n",
    "\n",
    "        #not a ranged date, only check if the day is the same\n",
    "        if isnan(end_date_epoch):\n",
    "            if date == datetime.fromtimestamp(start_date_epoch).date():\n",
    "                return True\n",
    "        \n",
    "        # it is a range of dates\n",
    "        else:\n",
    "            start_date = datetime.fromtimestamp(start_date_epoch).date()\n",
    "            end_date = datetime.fromtimestamp(end_date_epoch).date()\n",
    "            if start_date <= date <= end_date:\n",
    "                return True\n",
    "    return False"
   ]
  },
  {
   "cell_type": "code",
   "execution_count": 8,
   "metadata": {},
   "outputs": [],
   "source": [
    "def pop_school_year_range(df):\n",
    "    '''\n",
    "    Returns a 2 tuples of the start and end dates of the fall semester and the spring semester. \n",
    "    i.e. (start_date, end_date) and a dataframe with those dates removed\n",
    "    \n",
    "    df: dataframe of dates scrapped from academic calendar\n",
    "    '''\n",
    "    first_days = []\n",
    "    last_days = []\n",
    "    cleaned_df = []\n",
    "    \n",
    "    for row in df.iterrows():\n",
    "        event_name = row[1]['Event Name'].lower()\n",
    "        if not ('last day of classes' in event_name or 'instruction' in event_name):\n",
    "            cleaned_df.append(row[1])\n",
    "        if re.match('(fall|spring) \\d\\d instruction begins', event_name):\n",
    "            first_days.append(row[1]['Start Date Epoch'])\n",
    "        if 'last day of classes' in event_name:\n",
    "            last_days.append(row[1]['Start Date Epoch'])\n",
    "    if len(first_days) == 0 or len(last_days) == 0:\n",
    "        raise RuntimeError('Could not find a start or end date')\n",
    "    return (first_days[0], last_days[0]), (first_days[1], last_days[1]), pd.DataFrame(cleaned_df)"
   ]
  },
  {
   "cell_type": "code",
   "execution_count": 9,
   "metadata": {},
   "outputs": [],
   "source": [
    "def check_if_class(timestamp, data_path='./data/academic-calendar-csvs'):\n",
    "    '''\n",
    "    will check if a given timestamp \n",
    "    does not include summer or winter sessions (classes during break)\n",
    "    \n",
    "    earliest school year you can use is 2016-2017\n",
    "    '''\n",
    "    # convert to datetime object to remove time of day when comparing dates\n",
    "    date = datetime.fromtimestamp(timestamp) \n",
    "    \n",
    "    # check if weekday\n",
    "    if date.isoweekday() not in range(1, 6):\n",
    "        return False\n",
    "    \n",
    "    # get Cornell academic calendar\n",
    "    school_year = get_school_year(date)\n",
    "    if school_year[0] <= 2015:\n",
    "        raise RuntimeError('No holiday data available. The earliest school year available is 2016-2017.')\n",
    "    \n",
    "    if '{}-{}.csv'.format(school_year[0], school_year[1]) in listdir(data_path):\n",
    "        df = pd.read_csv('{}/{}-{}.csv'.format(data_path, school_year[0], school_year[1]))\n",
    "    else:\n",
    "        df = get_cornell_calendar(school_year[0], school_year[1])\n",
    "        df.to_csv('{}/{}-{}.csv'.format(data_path, school_year[0], school_year[1]))\n",
    "    \n",
    "    # check if in the school year range\n",
    "    in_semester = []\n",
    "    fall_range, spring_range, df = pop_school_year_range(df)\n",
    "    for semester_range in (fall_range, spring_range):\n",
    "        start_date = datetime.fromtimestamp(semester_range[0])\n",
    "        end_date = datetime.fromtimestamp(semester_range[1])\n",
    "        in_semester.append(start_date <= date <= end_date)\n",
    "    if not(in_semester[0] or in_semester[1]):\n",
    "        return False\n",
    "    \n",
    "    # check if holiday\n",
    "    return not check_if_in_calendar(df, date)"
   ]
  },
  {
   "cell_type": "code",
   "execution_count": 10,
   "metadata": {},
   "outputs": [
    {
     "data": {
      "text/plain": [
       "False"
      ]
     },
     "execution_count": 10,
     "metadata": {},
     "output_type": "execute_result"
    }
   ],
   "source": [
    "check_if_class(datetime(2020, 5, 13).timestamp())"
   ]
  }
 ],
 "metadata": {
  "kernelspec": {
   "display_name": "Python 3",
   "language": "python",
   "name": "python3"
  },
  "language_info": {
   "codemirror_mode": {
    "name": "ipython",
    "version": 3
   },
   "file_extension": ".py",
   "mimetype": "text/x-python",
   "name": "python",
   "nbconvert_exporter": "python",
   "pygments_lexer": "ipython3",
   "version": "3.6.8"
  }
 },
 "nbformat": 4,
 "nbformat_minor": 2
}
