{
 "cells": [
  {
   "cell_type": "markdown",
   "metadata": {},
   "source": [
    "## Weather"
   ]
  },
  {
   "cell_type": "code",
   "execution_count": 1,
   "metadata": {},
   "outputs": [],
   "source": [
    "import requests\n",
    "import pandas as pd\n",
    "from datetime import datetime"
   ]
  },
  {
   "cell_type": "code",
   "execution_count": 5,
   "metadata": {},
   "outputs": [],
   "source": [
    "df = pd.read_csv('data/ithaca_weather_data.csv')"
   ]
  },
  {
   "cell_type": "code",
   "execution_count": 6,
   "metadata": {},
   "outputs": [],
   "source": [
    "def get_weather(timestamp, weather_df):\n",
    "    previous_hour = datetime.fromtimestamp(timestamp).replace(microsecond=0, second=0, minute=0).timestamp()\n",
    "    return weather_df.loc[df['dt'] == previous_hour]"
   ]
  },
  {
   "cell_type": "code",
   "execution_count": 7,
   "metadata": {},
   "outputs": [
    {
     "data": {
      "text/html": [
       "<div>\n",
       "<style scoped>\n",
       "    .dataframe tbody tr th:only-of-type {\n",
       "        vertical-align: middle;\n",
       "    }\n",
       "\n",
       "    .dataframe tbody tr th {\n",
       "        vertical-align: top;\n",
       "    }\n",
       "\n",
       "    .dataframe thead th {\n",
       "        text-align: right;\n",
       "    }\n",
       "</style>\n",
       "<table border=\"1\" class=\"dataframe\">\n",
       "  <thead>\n",
       "    <tr style=\"text-align: right;\">\n",
       "      <th></th>\n",
       "      <th>dt</th>\n",
       "      <th>dt_iso</th>\n",
       "      <th>timezone</th>\n",
       "      <th>city_name</th>\n",
       "      <th>lat</th>\n",
       "      <th>lon</th>\n",
       "      <th>temp</th>\n",
       "      <th>feels_like</th>\n",
       "      <th>temp_min</th>\n",
       "      <th>temp_max</th>\n",
       "      <th>...</th>\n",
       "      <th>wind_deg</th>\n",
       "      <th>rain_1h</th>\n",
       "      <th>rain_3h</th>\n",
       "      <th>snow_1h</th>\n",
       "      <th>snow_3h</th>\n",
       "      <th>clouds_all</th>\n",
       "      <th>weather_id</th>\n",
       "      <th>weather_main</th>\n",
       "      <th>weather_description</th>\n",
       "      <th>weather_icon</th>\n",
       "    </tr>\n",
       "  </thead>\n",
       "  <tbody>\n",
       "    <tr>\n",
       "      <th>389589</th>\n",
       "      <td>1582880400</td>\n",
       "      <td>2020-02-28 09:00:00 +0000 UTC</td>\n",
       "      <td>-18000</td>\n",
       "      <td>Ithaca</td>\n",
       "      <td>42.443961</td>\n",
       "      <td>-76.501881</td>\n",
       "      <td>20.19</td>\n",
       "      <td>5.94</td>\n",
       "      <td>17.01</td>\n",
       "      <td>23.0</td>\n",
       "      <td>...</td>\n",
       "      <td>250</td>\n",
       "      <td>NaN</td>\n",
       "      <td>NaN</td>\n",
       "      <td>NaN</td>\n",
       "      <td>NaN</td>\n",
       "      <td>90</td>\n",
       "      <td>804</td>\n",
       "      <td>Clouds</td>\n",
       "      <td>overcast clouds</td>\n",
       "      <td>04n</td>\n",
       "    </tr>\n",
       "  </tbody>\n",
       "</table>\n",
       "<p>1 rows × 25 columns</p>\n",
       "</div>"
      ],
      "text/plain": [
       "                dt                         dt_iso  timezone city_name  \\\n",
       "389589  1582880400  2020-02-28 09:00:00 +0000 UTC    -18000    Ithaca   \n",
       "\n",
       "              lat        lon   temp  feels_like  temp_min  temp_max  ...  \\\n",
       "389589  42.443961 -76.501881  20.19        5.94     17.01      23.0  ...   \n",
       "\n",
       "        wind_deg  rain_1h  rain_3h  snow_1h  snow_3h  clouds_all  weather_id  \\\n",
       "389589       250      NaN      NaN      NaN      NaN          90         804   \n",
       "\n",
       "        weather_main  weather_description  weather_icon  \n",
       "389589        Clouds      overcast clouds           04n  \n",
       "\n",
       "[1 rows x 25 columns]"
      ]
     },
     "execution_count": 7,
     "metadata": {},
     "output_type": "execute_result"
    }
   ],
   "source": [
    "get_weather(1582882844, df)"
   ]
  },
  {
   "cell_type": "markdown",
   "metadata": {},
   "source": [
    "## Elevation "
   ]
  },
  {
   "cell_type": "code",
   "execution_count": 11,
   "metadata": {},
   "outputs": [],
   "source": [
    "with open('./keys/google_api_key.txt') as key_file:\n",
    "    ELEVATION_KEY = key_file.read()\n",
    "    \n",
    "stops_df = pd.read_csv('./data/tcat-ny-us/stops.txt')"
   ]
  },
  {
   "cell_type": "code",
   "execution_count": 6,
   "metadata": {},
   "outputs": [],
   "source": [
    "def get_elevation(lat, long):\n",
    "    elevation_url = 'https://maps.googleapis.com/maps/api/elevation/json?locations={},{}&key={}'\\\n",
    "        .format(lat, long, ELEVATION_KEY)\n",
    "    r = requests.get(elevation_url)\n",
    "    if r.ok:\n",
    "        return r.json()['results'][0]['elevation']\n",
    "    raise RuntimeError('Error connecting to API')"
   ]
  },
  {
   "cell_type": "code",
   "execution_count": 7,
   "metadata": {},
   "outputs": [],
   "source": [
    "stops_df['stop_elevations'] = [get_elevation(row[1]['stop_lat'], row[1]['stop_lon']) \\\n",
    "                               for row in stops_df.iterrows()]"
   ]
  },
  {
   "cell_type": "code",
   "execution_count": 8,
   "metadata": {},
   "outputs": [],
   "source": [
    "stops_df.to_csv('stops-with-elevations.txt')"
   ]
  }
 ],
 "metadata": {
  "kernelspec": {
   "display_name": "Python 3",
   "language": "python",
   "name": "python3"
  },
  "language_info": {
   "codemirror_mode": {
    "name": "ipython",
    "version": 3
   },
   "file_extension": ".py",
   "mimetype": "text/x-python",
   "name": "python",
   "nbconvert_exporter": "python",
   "pygments_lexer": "ipython3",
   "version": "3.6.8"
  }
 },
 "nbformat": 4,
 "nbformat_minor": 2
}
